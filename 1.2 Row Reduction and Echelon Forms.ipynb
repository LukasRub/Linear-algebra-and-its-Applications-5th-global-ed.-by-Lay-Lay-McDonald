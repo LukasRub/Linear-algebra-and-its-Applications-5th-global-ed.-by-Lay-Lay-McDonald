{
 "cells": [
  {
   "cell_type": "code",
   "execution_count": 1,
   "metadata": {
    "collapsed": true
   },
   "outputs": [],
   "source": [
    "import numpy as np\n",
    "import matplotlib.pyplot as plt"
   ]
  },
  {
   "cell_type": "code",
   "execution_count": 2,
   "metadata": {},
   "outputs": [],
   "source": [
    "# Exercise 33:\n",
    "x = np.array([1,2,3])\n",
    "Y = np.array([12,15,16])"
   ]
  },
  {
   "cell_type": "code",
   "execution_count": 3,
   "metadata": {},
   "outputs": [
    {
     "name": "stdout",
     "output_type": "stream",
     "text": [
      "Vander matrix: \n",
      " [[1 1 1]\n",
      " [4 2 1]\n",
      " [9 3 1]]\n",
      "Coefficients: \n",
      " [-1.  6.  7.]\n"
     ]
    }
   ],
   "source": [
    "vander = np.vander(x)\n",
    "print(\"Vander matrix: \\n\", vander)\n",
    "print(\"Coefficients: \\n\", np.linalg.solve(vander, Y))"
   ]
  },
  {
   "cell_type": "code",
   "execution_count": 5,
   "metadata": {},
   "outputs": [
    {
     "name": "stdout",
     "output_type": "stream",
     "text": [
      "polyfit solution: \n",
      " [-1.  6.  7.]\n"
     ]
    }
   ],
   "source": [
    "polyfit = np.polyfit(x, Y, deg=2)\n",
    "print(\"polyfit solution: \\n\", polyfit)"
   ]
  },
  {
   "cell_type": "code",
   "execution_count": 6,
   "metadata": {
    "collapsed": true
   },
   "outputs": [],
   "source": [
    "fig = plt.figure()\n",
    "ax = fig.add_subplot(1,1,1)\n",
    "# finish this later"
   ]
  },
  {
   "cell_type": "code",
   "execution_count": 5,
   "metadata": {
    "collapsed": true
   },
   "outputs": [],
   "source": [
    "# Exercise 34:\n",
    "x = np.arange(0,12,2) # Velocity (100 ft./sec)\n",
    "Y = np.array([0, 2.9, 14.8, 39.6, 74.3, 119]) # Force (100 lb)"
   ]
  },
  {
   "cell_type": "code",
   "execution_count": 6,
   "metadata": {},
   "outputs": [
    {
     "name": "stdout",
     "output_type": "stream",
     "text": [
      "Vander matrix: \n",
      " [[     0      0      0      0      0      1]\n",
      " [    32     16      8      4      2      1]\n",
      " [  1024    256     64     16      4      1]\n",
      " [  7776   1296    216     36      6      1]\n",
      " [ 32768   4096    512     64      8      1]\n",
      " [100000  10000   1000    100     10      1]]\n",
      "Coefficients: \n",
      " [ 0.00260417 -0.07005208  0.66145833 -1.19479167  1.7125      0.        ]\n",
      "poly1d with Vander: \n",
      " 6483.83789062\n"
     ]
    }
   ],
   "source": [
    "vander = np.vander(x)\n",
    "coeffs_vander = np.linalg.solve(vander, Y)\n",
    "\n",
    "print(\"Vander matrix: \\n\", vander)\n",
    "print(\"Coefficients: \\n\", coeffs_vander)\n",
    "print(\"poly1d with Vander: \\n\", np.poly1d(coeffs_vander)(7.5) * 100)"
   ]
  },
  {
   "cell_type": "code",
   "execution_count": 7,
   "metadata": {},
   "outputs": [
    {
     "name": "stdout",
     "output_type": "stream",
     "text": [
      "Coefficients: \n",
      " [  2.60416667e-03  -7.00520833e-02   6.61458333e-01  -1.19479167e+00\n",
      "   1.71250000e+00  -5.13915779e-14]\n",
      "poly1d with polyfit: \n",
      " 6483.83789062\n"
     ]
    }
   ],
   "source": [
    "coeffs_polyfit = np.polyfit(x, Y, deg=5)\n",
    "\n",
    "print(\"Coefficients: \\n\", coeffs_polyfit)\n",
    "print(\"poly1d with polyfit: \\n\",np.poly1d(coeffs_polyfit)(7.5) * 100)"
   ]
  },
  {
   "cell_type": "code",
   "execution_count": 8,
   "metadata": {},
   "outputs": [
    {
     "name": "stdout",
     "output_type": "stream",
     "text": [
      "polyfit (deg=3) solution: \n",
      " [-0.00462963  1.40962302 -1.7412037   0.17539683]\n",
      "poly1d with polyfit: \n",
      " 6445.45386905\n"
     ]
    }
   ],
   "source": [
    "# Exercise 34 (extra):\n",
    "deg3_polyfit = np.polyfit(x, Y, deg=3)\n",
    "\n",
    "print(\"polyfit (deg=3) solution: \\n\", deg3_polyfit)\n",
    "print(\"poly1d with polyfit: \\n\",np.poly1d(deg3_polyfit)(7.5) * 100)"
   ]
  }
 ],
 "metadata": {
  "kernelspec": {
   "display_name": "Python 3",
   "language": "python",
   "name": "python3"
  },
  "language_info": {
   "codemirror_mode": {
    "name": "ipython",
    "version": 3
   },
   "file_extension": ".py",
   "mimetype": "text/x-python",
   "name": "python",
   "nbconvert_exporter": "python",
   "pygments_lexer": "ipython3",
   "version": "3.6.2"
  }
 },
 "nbformat": 4,
 "nbformat_minor": 2
}
