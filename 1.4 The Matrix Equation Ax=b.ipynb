{
 "cells": [
  {
   "cell_type": "code",
   "execution_count": 15,
   "metadata": {
    "collapsed": true
   },
   "outputs": [],
   "source": [
    "import numpy as np\n",
    "import sympy as sp"
   ]
  },
  {
   "cell_type": "code",
   "execution_count": 38,
   "metadata": {},
   "outputs": [
    {
     "name": "stdout",
     "output_type": "stream",
     "text": [
      "(Matrix([\n",
      "[1, 0, 0,  -93/50],\n",
      "[0, 1, 0,   53/50],\n",
      "[0, 0, 1, -189/50],\n",
      "[0, 0, 0,       0]]), (0, 1, 2))\n",
      "3\n"
     ]
    },
    {
     "data": {
      "text/plain": [
       "False"
      ]
     },
     "execution_count": 38,
     "metadata": {},
     "output_type": "execute_result"
    }
   ],
   "source": [
    "# Exercise 37\n",
    "A = sp.Matrix([[7, 2, -5, 8],\n",
    "               [-5, -3, 4, -9],\n",
    "               [6, 10, -2, 7],\n",
    "               [-7, 9, 2, 15]])\n",
    "print(A.rref())\n",
    "print(A.rank())\n",
    "len(A.rref()[1]) == A.shape[0]"
   ]
  },
  {
   "cell_type": "code",
   "execution_count": 39,
   "metadata": {},
   "outputs": [
    {
     "name": "stdout",
     "output_type": "stream",
     "text": [
      "(Matrix([\n",
      "[1, 0, 0,  4/3],\n",
      "[0, 1, 0, -5/3],\n",
      "[0, 0, 1,  7/3],\n",
      "[0, 0, 0,    0]]), (0, 1, 2))\n",
      "3\n"
     ]
    },
    {
     "data": {
      "text/plain": [
       "False"
      ]
     },
     "execution_count": 39,
     "metadata": {},
     "output_type": "execute_result"
    }
   ],
   "source": [
    "# Exercise 38\n",
    "A = sp.Matrix([[5, -7, -4, 9],\n",
    "               [6, -8, -7, 5],\n",
    "               [4, -4, -9, -9],\n",
    "               [-9, 11, 16, 7]])\n",
    "print(A.rref())\n",
    "print(A.rank())\n",
    "len(A.rref()[1]) == A.shape[0]"
   ]
  },
  {
   "cell_type": "code",
   "execution_count": 45,
   "metadata": {},
   "outputs": [
    {
     "name": "stdout",
     "output_type": "stream",
     "text": [
      "(Matrix([\n",
      "[1, 0, 0, -10/21, 0],\n",
      "[0, 1, 0, -25/84, 0],\n",
      "[0, 0, 1, -41/84, 0],\n",
      "[0, 0, 0,      0, 1]]), (0, 1, 2, 4))\n",
      "4\n"
     ]
    },
    {
     "data": {
      "text/plain": [
       "True"
      ]
     },
     "execution_count": 45,
     "metadata": {},
     "output_type": "execute_result"
    }
   ],
   "source": [
    "# Exercise 39\n",
    "A = sp.Matrix([[12, -7, 11, -9, 5],\n",
    "               [-9, 4, -8, 7, -3],\n",
    "               [-6, 11, -7, 3, -9],\n",
    "               [4, -6, 10, -5, 12]])\n",
    "print(A.rref())\n",
    "print(A.rank())\n",
    "len(A.rref()[1]) == A.shape[0]"
   ]
  },
  {
   "cell_type": "code",
   "execution_count": 41,
   "metadata": {},
   "outputs": [
    {
     "name": "stdout",
     "output_type": "stream",
     "text": [
      "(Matrix([\n",
      "[1, 0, -7/13, 0, 0],\n",
      "[0, 1, -2/13, 0, 0],\n",
      "[0, 0,     0, 1, 0],\n",
      "[0, 0,     0, 0, 1]]), (0, 1, 3, 4))\n",
      "4\n"
     ]
    },
    {
     "data": {
      "text/plain": [
       "True"
      ]
     },
     "execution_count": 41,
     "metadata": {},
     "output_type": "execute_result"
    }
   ],
   "source": [
    "# Exercise 40\n",
    "A = sp.Matrix([[8, 11, -6, -7, 13],\n",
    "               [-7, -8, 5, 6, -9],\n",
    "               [11, 7, -7, -9, -6],\n",
    "               [-3, 4, 1, 8, 7]])\n",
    "print(A.rref())\n",
    "print(A.rank())\n",
    "len(A.rref()[1]) == A.shape[0]"
   ]
  },
  {
   "cell_type": "code",
   "execution_count": 55,
   "metadata": {},
   "outputs": [
    {
     "name": "stdout",
     "output_type": "stream",
     "text": [
      "Matrix([[12, -7, 11, -9], [-9, 4, -8, 7], [-6, 11, -7, 3], [4, -6, 10, -5]])\n",
      "(Matrix([\n",
      "[1, 0, 0, -10/21],\n",
      "[0, 1, 0, -25/84],\n",
      "[0, 0, 1, -41/84],\n",
      "[0, 0, 0,      0]]), (0, 1, 2))\n",
      "3\n"
     ]
    },
    {
     "data": {
      "text/plain": [
       "False"
      ]
     },
     "execution_count": 55,
     "metadata": {},
     "output_type": "execute_result"
    }
   ],
   "source": [
    "# Exercise 41\n",
    "A = sp.Matrix([[12, -7, 11, -9, 5],\n",
    "               [-9, 4, -8, 7, -3],\n",
    "               [-6, 11, -7, 3, -9],\n",
    "               [4, -6, 10, -5, 12]])\n",
    "A.col_del(4)\n",
    "print(A)\n",
    "print(A.rref())\n",
    "print(A.rank())\n",
    "\n",
    "len(A.rref()[1]) == A.shape[0]"
   ]
  },
  {
   "cell_type": "code",
   "execution_count": 68,
   "metadata": {},
   "outputs": [
    {
     "name": "stdout",
     "output_type": "stream",
     "text": [
      "Matrix([[11, -6, -7, 13], [-8, 5, 6, -9], [7, -7, -9, -6], [4, 1, 8, 7]])\n",
      "(Matrix([\n",
      "[1, 0, 0, 0],\n",
      "[0, 1, 0, 0],\n",
      "[0, 0, 1, 0],\n",
      "[0, 0, 0, 1]]), (0, 1, 2, 3))\n",
      "4\n"
     ]
    },
    {
     "data": {
      "text/plain": [
       "True"
      ]
     },
     "execution_count": 68,
     "metadata": {},
     "output_type": "execute_result"
    }
   ],
   "source": [
    "# Exercise 42\n",
    "A = sp.Matrix([[8, 11, -6, -7, 13],\n",
    "               [-7, -8, 5, 6, -9],\n",
    "               [11, 7, -7, -9, -6],\n",
    "               [-3, 4, 1, 8, 7]])\n",
    "A.col_del(0)\n",
    "print(A)\n",
    "print(A.rref())\n",
    "print(A.rank())\n",
    "len(A.rref()[1]) == A.shape[0]"
   ]
  }
 ],
 "metadata": {
  "kernelspec": {
   "display_name": "Python 3",
   "language": "python",
   "name": "python3"
  },
  "language_info": {
   "codemirror_mode": {
    "name": "ipython",
    "version": 3
   },
   "file_extension": ".py",
   "mimetype": "text/x-python",
   "name": "python",
   "nbconvert_exporter": "python",
   "pygments_lexer": "ipython3",
   "version": "3.6.2"
  }
 },
 "nbformat": 4,
 "nbformat_minor": 2
}
